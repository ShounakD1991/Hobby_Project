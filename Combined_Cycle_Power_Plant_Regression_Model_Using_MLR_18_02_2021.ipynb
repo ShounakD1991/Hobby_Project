{
  "nbformat": 4,
  "nbformat_minor": 0,
  "metadata": {
    "colab": {
      "name": "Combined_Cycle_Power_Plant_Regression_Model_Using_MLR_18.02.2021.ipynb",
      "provenance": [],
      "collapsed_sections": [],
      "mount_file_id": "19pDPAJWhUfnc46qQN-E2H5eix1hQyecW",
      "authorship_tag": "ABX9TyOT8/Nk752X+lwDT0BcCPrp",
      "include_colab_link": true
    },
    "kernelspec": {
      "name": "python3",
      "display_name": "Python 3"
    }
  },
  "cells": [
    {
      "cell_type": "markdown",
      "metadata": {
        "id": "view-in-github",
        "colab_type": "text"
      },
      "source": [
        "<a href=\"https://colab.research.google.com/github/ShounakD1991/Hobby_Project/blob/main/Combined_Cycle_Power_Plant_Regression_Model_Using_MLR_18_02_2021.ipynb\" target=\"_parent\"><img src=\"https://colab.research.google.com/assets/colab-badge.svg\" alt=\"Open In Colab\"/></a>"
      ]
    },
    {
      "cell_type": "markdown",
      "metadata": {
        "id": "rXkid_lDbY0s"
      },
      "source": [
        "---\r\n",
        "# **Regression Using Different Machine Learning Models-MLR**\r\n",
        "---"
      ]
    },
    {
      "cell_type": "markdown",
      "metadata": {
        "id": "XNewywEWbq5a"
      },
      "source": [
        "\r\n",
        "\r\n",
        "---\r\n",
        "#### **The Data Set is taken from the UCI Machine Learning Repository Regression using different method are performed and the model performance is checked**\r\n",
        "---\r\n"
      ]
    },
    {
      "cell_type": "markdown",
      "metadata": {
        "id": "VlX37civb11p"
      },
      "source": [
        "\r\n",
        "\r\n",
        "---\r\n",
        "### **Importing the Libraries**\r\n",
        "---\r\n",
        "\r\n",
        "\r\n",
        "\r\n"
      ]
    },
    {
      "cell_type": "code",
      "metadata": {
        "id": "idNUVtZHb1WY"
      },
      "source": [
        "import numpy as np\r\n",
        "import pandas as pd\r\n",
        "import matplotlib.pyplot as plt\r\n",
        "import seaborn as sns\r\n",
        "import math\r\n",
        "from warnings import filterwarnings\r\n",
        "filterwarnings('ignore')\r\n",
        "pd.options.display.max_columns = None\r\n",
        "pd.options.display.max_rows = None\r\n",
        "import statsmodels.api as sm\r\n",
        "from statsmodels.stats.outliers_influence import variance_inflation_factor\r\n",
        "from scipy.stats import shapiro\r\n",
        "from sklearn.metrics import mean_absolute_error\r\n",
        "from sklearn.metrics import mean_squared_error\r\n",
        "from sklearn.metrics import r2_score\r\n",
        "from sklearn.model_selection import train_test_split\r\n",
        "from sklearn.linear_model import LinearRegression"
      ],
      "execution_count": null,
      "outputs": []
    },
    {
      "cell_type": "markdown",
      "metadata": {
        "id": "5U9G_zgFh3ih"
      },
      "source": [
        "---\r\n",
        " ### **Importing the DataSet**\r\n",
        "---"
      ]
    },
    {
      "cell_type": "code",
      "metadata": {
        "colab": {
          "base_uri": "https://localhost:8080/",
          "height": 198
        },
        "id": "CIDIHyMdOxvQ",
        "outputId": "f39e6e88-db58-4c24-bd41-24cf314a4755"
      },
      "source": [
        "df=pd.read_csv(\"/content/drive/MyDrive/DATA_SCIENCE_HOBBY_PROJECT/Combined_Cycle_Power_Plant.csv\")\r\n",
        "df.head()"
      ],
      "execution_count": null,
      "outputs": [
        {
          "output_type": "execute_result",
          "data": {
            "text/html": [
              "<div>\n",
              "<style scoped>\n",
              "    .dataframe tbody tr th:only-of-type {\n",
              "        vertical-align: middle;\n",
              "    }\n",
              "\n",
              "    .dataframe tbody tr th {\n",
              "        vertical-align: top;\n",
              "    }\n",
              "\n",
              "    .dataframe thead th {\n",
              "        text-align: right;\n",
              "    }\n",
              "</style>\n",
              "<table border=\"1\" class=\"dataframe\">\n",
              "  <thead>\n",
              "    <tr style=\"text-align: right;\">\n",
              "      <th></th>\n",
              "      <th>AT</th>\n",
              "      <th>V</th>\n",
              "      <th>AP</th>\n",
              "      <th>RH</th>\n",
              "      <th>PE</th>\n",
              "    </tr>\n",
              "  </thead>\n",
              "  <tbody>\n",
              "    <tr>\n",
              "      <th>0</th>\n",
              "      <td>14.96</td>\n",
              "      <td>41.76</td>\n",
              "      <td>1024.07</td>\n",
              "      <td>73.17</td>\n",
              "      <td>463.26</td>\n",
              "    </tr>\n",
              "    <tr>\n",
              "      <th>1</th>\n",
              "      <td>25.18</td>\n",
              "      <td>62.96</td>\n",
              "      <td>1020.04</td>\n",
              "      <td>59.08</td>\n",
              "      <td>444.37</td>\n",
              "    </tr>\n",
              "    <tr>\n",
              "      <th>2</th>\n",
              "      <td>5.11</td>\n",
              "      <td>39.40</td>\n",
              "      <td>1012.16</td>\n",
              "      <td>92.14</td>\n",
              "      <td>488.56</td>\n",
              "    </tr>\n",
              "    <tr>\n",
              "      <th>3</th>\n",
              "      <td>20.86</td>\n",
              "      <td>57.32</td>\n",
              "      <td>1010.24</td>\n",
              "      <td>76.64</td>\n",
              "      <td>446.48</td>\n",
              "    </tr>\n",
              "    <tr>\n",
              "      <th>4</th>\n",
              "      <td>10.82</td>\n",
              "      <td>37.50</td>\n",
              "      <td>1009.23</td>\n",
              "      <td>96.62</td>\n",
              "      <td>473.90</td>\n",
              "    </tr>\n",
              "  </tbody>\n",
              "</table>\n",
              "</div>"
            ],
            "text/plain": [
              "      AT      V       AP     RH      PE\n",
              "0  14.96  41.76  1024.07  73.17  463.26\n",
              "1  25.18  62.96  1020.04  59.08  444.37\n",
              "2   5.11  39.40  1012.16  92.14  488.56\n",
              "3  20.86  57.32  1010.24  76.64  446.48\n",
              "4  10.82  37.50  1009.23  96.62  473.90"
            ]
          },
          "metadata": {
            "tags": []
          },
          "execution_count": 2
        }
      ]
    },
    {
      "cell_type": "markdown",
      "metadata": {
        "id": "by2f7CoWh8im"
      },
      "source": [
        "\r\n",
        "\r\n",
        "---\r\n",
        "### **Making copy of original DataSet**\r\n",
        "---\r\n",
        "\r\n",
        "\r\n",
        "\r\n"
      ]
    },
    {
      "cell_type": "code",
      "metadata": {
        "id": "dapVyqfJhg5H"
      },
      "source": [
        "df1=df.copy()"
      ],
      "execution_count": null,
      "outputs": []
    },
    {
      "cell_type": "markdown",
      "metadata": {
        "id": "m06BNCHLiGd9"
      },
      "source": [
        "\r\n",
        "\r\n",
        "---\r\n",
        "#### **Method 2: Model Formation and Prediction using MLR Method**\r\n",
        "---\r\n",
        "\r\n",
        "\r\n",
        "\r\n"
      ]
    },
    {
      "cell_type": "markdown",
      "metadata": {
        "id": "uDeqXcE_i-PL"
      },
      "source": [
        "\r\n",
        "\r\n",
        "---\r\n",
        "##### **Creation of Independent and Dependent Variable**\r\n",
        "---\r\n",
        "\r\n",
        "\r\n",
        "\r\n"
      ]
    },
    {
      "cell_type": "code",
      "metadata": {
        "id": "ayRj3zcTi--S"
      },
      "source": [
        "X=df1.iloc[:,:-1]\r\n",
        "y=df1['PE']"
      ],
      "execution_count": null,
      "outputs": []
    },
    {
      "cell_type": "markdown",
      "metadata": {
        "id": "wnN6jIjMibZg"
      },
      "source": [
        "\r\n",
        "\r\n",
        "---\r\n",
        "##### **Splitting the dataset into the Training set and Test set**\r\n",
        "---\r\n",
        "\r\n",
        "\r\n",
        "\r\n"
      ]
    },
    {
      "cell_type": "code",
      "metadata": {
        "id": "TEiElWGniBKI"
      },
      "source": [
        " X_train, X_test, y_train, y_test = train_test_split(X, y, test_size=0.2, random_state=0)"
      ],
      "execution_count": null,
      "outputs": []
    },
    {
      "cell_type": "markdown",
      "metadata": {
        "id": "Xws4NrF6jU2u"
      },
      "source": [
        "\r\n",
        "\r\n",
        "---\r\n",
        "##### **Training the Multiple Linear Regression model on the Training set**\r\n",
        "---\r\n",
        "\r\n",
        "\r\n",
        "\r\n"
      ]
    },
    {
      "cell_type": "code",
      "metadata": {
        "colab": {
          "base_uri": "https://localhost:8080/"
        },
        "id": "dAee4piiixnC",
        "outputId": "f1be25e7-e2f6-4b2d-abf9-462fdf5222e9"
      },
      "source": [
        "regressor = LinearRegression()\r\n",
        "regressor.fit(X_train, y_train)"
      ],
      "execution_count": null,
      "outputs": [
        {
          "output_type": "execute_result",
          "data": {
            "text/plain": [
              "LinearRegression(copy_X=True, fit_intercept=True, n_jobs=None, normalize=False)"
            ]
          },
          "metadata": {
            "tags": []
          },
          "execution_count": 6
        }
      ]
    },
    {
      "cell_type": "markdown",
      "metadata": {
        "id": "lPx38BiPmBpE"
      },
      "source": [
        "\r\n",
        "\r\n",
        "---\r\n",
        "##### **Predicting the Test set results**\r\n",
        "---\r\n",
        "\r\n",
        "\r\n",
        "\r\n",
        "\r\n"
      ]
    },
    {
      "cell_type": "code",
      "metadata": {
        "id": "JJ5RlCQ0k2fp"
      },
      "source": [
        "y_hat_test=regressor.predict(X_test)\r\n",
        "y_hat_train=regressor.predict(X_train)"
      ],
      "execution_count": null,
      "outputs": []
    },
    {
      "cell_type": "markdown",
      "metadata": {
        "id": "mw7JQJLamVrD"
      },
      "source": [
        "\r\n",
        "\r\n",
        "---\r\n",
        "##### **Model Performance Evaluation**\r\n",
        "---\r\n",
        "\r\n",
        "\r\n",
        "\r\n",
        "\r\n"
      ]
    },
    {
      "cell_type": "markdown",
      "metadata": {
        "id": "LdeJJSkUmdcb"
      },
      "source": [
        "\r\n",
        "\r\n",
        "---\r\n",
        "###### **Model Performance Evaluation-Test**\r\n",
        "---\r\n",
        "\r\n",
        "\r\n",
        "\r\n",
        "\r\n"
      ]
    },
    {
      "cell_type": "code",
      "metadata": {
        "colab": {
          "base_uri": "https://localhost:8080/"
        },
        "id": "x8pck7Yjmbff",
        "outputId": "fdcd0d21-6e21-49da-9460-a967fe610cab"
      },
      "source": [
        "MAE=mean_absolute_error(y_test,y_hat_test)\r\n",
        "MSE=mean_squared_error(y_test,y_hat_test)\r\n",
        "RMSE=math.sqrt(MSE)\r\n",
        "MAPE=(MAE/np.mean(y_test))*100\r\n",
        "R_Squared=r2_score(y_test,y_hat_test)\r\n",
        "print(f\"\\n\\nMAE={MAE:0.2f}\\n\\nMSE={MSE:0.2f}\\n\\nRMSE={RMSE:0.2f}\\n\\nMAPE={MAPE:0.2f}%\\n\\nR-Squared={R_Squared:0.2f}\")"
      ],
      "execution_count": null,
      "outputs": [
        {
          "output_type": "stream",
          "text": [
            "\n",
            "\n",
            "MAE=3.57\n",
            "\n",
            "MSE=19.73\n",
            "\n",
            "RMSE=4.44\n",
            "\n",
            "MAPE=0.78%\n",
            "\n",
            "R-Squared=0.93\n"
          ],
          "name": "stdout"
        }
      ]
    },
    {
      "cell_type": "markdown",
      "metadata": {
        "id": "1lD9wmw7midx"
      },
      "source": [
        "\r\n",
        "\r\n",
        "---\r\n",
        "###### **Model Performance Evaluation-Train**\r\n",
        "---\r\n",
        "\r\n",
        "\r\n",
        "\r\n",
        "\r\n"
      ]
    },
    {
      "cell_type": "code",
      "metadata": {
        "colab": {
          "base_uri": "https://localhost:8080/"
        },
        "id": "7hmKGhU4lXAt",
        "outputId": "1998360c-29ca-492f-db0c-57ee874d9ac8"
      },
      "source": [
        "MAE=mean_absolute_error(y_train,y_hat_train)\r\n",
        "MSE=mean_squared_error(y_train,y_hat_train)\r\n",
        "RMSE=math.sqrt(MSE)\r\n",
        "MAPE=(MAE/np.mean(y_train))*100\r\n",
        "R_Squared=r2_score(y_train,y_hat_train)\r\n",
        "print(f\"\\n\\nMAE={MAE:0.2f}\\n\\nMSE={MSE:0.2f}\\n\\nRMSE={RMSE:0.2f}\\n\\nMAPE={MAPE:0.2f}%\\n\\nR-Squared={R_Squared:0.2f}\")"
      ],
      "execution_count": null,
      "outputs": [
        {
          "output_type": "stream",
          "text": [
            "\n",
            "\n",
            "MAE=3.64\n",
            "\n",
            "MSE=21.03\n",
            "\n",
            "RMSE=4.59\n",
            "\n",
            "MAPE=0.80%\n",
            "\n",
            "R-Squared=0.93\n"
          ],
          "name": "stdout"
        }
      ]
    },
    {
      "cell_type": "markdown",
      "metadata": {
        "id": "_ordVROqquEg"
      },
      "source": [
        "\r\n",
        "\r\n",
        "---\r\n",
        "###### **Distribution curve to assess Bias or Variance**\r\n",
        "---\r\n",
        "\r\n",
        "\r\n",
        "\r\n",
        "\r\n"
      ]
    },
    {
      "cell_type": "code",
      "metadata": {
        "colab": {
          "base_uri": "https://localhost:8080/",
          "height": 497
        },
        "id": "iGZuLM5splb7",
        "outputId": "f1d79a75-7c6b-411e-b9c6-ae43ac6b5968"
      },
      "source": [
        "plt.figure(figsize=(10,5),dpi=100)\r\n",
        "y_train.sort_values().plot(kind='kde',label=\"Training Data\",ls=\"--\",lw=2)\r\n",
        "y_test.sort_values().plot(kind='kde',label=\"Test Data\",ls=\"-.\",lw=3)\r\n",
        "y.sort_values().plot(kind='kde',label=\"Observed Value\",ls=\":\",lw=1)\r\n",
        "plt.ylabel(\"Density\")\r\n",
        "plt.xlabel(\"PE\")\r\n",
        "plt.title(\"Distribution of Observed,Training, Test Values of Energy Output\")\r\n",
        "plt.legend()\r\n",
        "plt.show()\r\n",
        "print(\"The model is a very fit to observed values. As we can see Model performance parameters are almost same\")"
      ],
      "execution_count": null,
      "outputs": [
        {
          "output_type": "display_data",
          "data": {
            "image/png": "[encoded data removed]",
            "text/plain": [
              "<Figure size 1000x500 with 1 Axes>"
            ]
          },
          "metadata": {
            "tags": [],
            "needs_background": "light"
          }
        },
        {
          "output_type": "stream",
          "text": [
            "The model is a very fit to observed values. As we can see Model performance parameters are almost same\n"
          ],
          "name": "stdout"
        }
      ]
    }
  ]
}