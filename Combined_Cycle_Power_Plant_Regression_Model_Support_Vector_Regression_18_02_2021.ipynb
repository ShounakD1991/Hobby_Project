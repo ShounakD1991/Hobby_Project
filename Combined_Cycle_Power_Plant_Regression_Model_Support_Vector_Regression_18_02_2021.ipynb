{
  "nbformat": 4,
  "nbformat_minor": 0,
  "metadata": {
    "colab": {
      "name": "Combined_Cycle_Power_Plant_Regression_Model_Support_Vector_Regression_18.02.2021.ipynb",
      "provenance": [],
      "collapsed_sections": [],
      "mount_file_id": "1CCjq2kSt-o0yY4q784JKPquqWt0GpSV5",
      "authorship_tag": "ABX9TyNr9k3TD5huCk2QZjr6RBaC",
      "include_colab_link": true
    },
    "kernelspec": {
      "name": "python3",
      "display_name": "Python 3"
    }
  },
  "cells": [
    {
      "cell_type": "markdown",
      "metadata": {
        "id": "view-in-github",
        "colab_type": "text"
      },
      "source": [
        "<a href=\"https://colab.research.google.com/github/ShounakD1991/Hobby_Project/blob/main/Combined_Cycle_Power_Plant_Regression_Model_Support_Vector_Regression_18_02_2021.ipynb\" target=\"_parent\"><img src=\"https://colab.research.google.com/assets/colab-badge.svg\" alt=\"Open In Colab\"/></a>"
      ]
    },
    {
      "cell_type": "markdown",
      "metadata": {
        "id": "rXkid_lDbY0s"
      },
      "source": [
        "---\r\n",
        "# **Regression Using Different Machine Learning Models-Support Vector Regression**\r\n",
        "---"
      ]
    },
    {
      "cell_type": "markdown",
      "metadata": {
        "id": "XNewywEWbq5a"
      },
      "source": [
        "\r\n",
        "\r\n",
        "---\r\n",
        "#### **The Data Set is taken from the UCI Machine Learning Repository Regression using different method are performed and the model performance is checked**\r\n",
        "---\r\n"
      ]
    },
    {
      "cell_type": "markdown",
      "metadata": {
        "id": "VlX37civb11p"
      },
      "source": [
        "\r\n",
        "\r\n",
        "---\r\n",
        "### **Importing the Libraries**\r\n",
        "---\r\n",
        "\r\n",
        "\r\n",
        "\r\n"
      ]
    },
    {
      "cell_type": "code",
      "metadata": {
        "id": "idNUVtZHb1WY"
      },
      "source": [
        "import numpy as np\r\n",
        "import pandas as pd\r\n",
        "import matplotlib.pyplot as plt\r\n",
        "import seaborn as sns\r\n",
        "import math\r\n",
        "from warnings import filterwarnings\r\n",
        "filterwarnings('ignore')\r\n",
        "pd.options.display.max_columns = None\r\n",
        "pd.options.display.max_rows = None\r\n",
        "import statsmodels.api as sm\r\n",
        "from statsmodels.stats.outliers_influence import variance_inflation_factor\r\n",
        "from scipy.stats import shapiro\r\n",
        "from sklearn.metrics import mean_absolute_error\r\n",
        "from sklearn.metrics import mean_squared_error\r\n",
        "from sklearn.metrics import r2_score\r\n",
        "from sklearn.model_selection import train_test_split\r\n",
        "from sklearn.linear_model import LinearRegression\r\n",
        "from sklearn.svm import SVR\r\n",
        "from sklearn.preprocessing import StandardScaler"
      ],
      "execution_count": 1,
      "outputs": []
    },
    {
      "cell_type": "markdown",
      "metadata": {
        "id": "5U9G_zgFh3ih"
      },
      "source": [
        "---\r\n",
        " ### **Importing the DataSet**\r\n",
        "---"
      ]
    },
    {
      "cell_type": "code",
      "metadata": {
        "colab": {
          "base_uri": "https://localhost:8080/",
          "height": 196
        },
        "id": "CIDIHyMdOxvQ",
        "outputId": "d8843ae9-00c1-4299-fdb5-37928c40f3b9"
      },
      "source": [
        "df=pd.read_csv(\"/content/drive/MyDrive/DATA_SCIENCE_HOBBY_PROJECT/Combined_Cycle_Power_Plant.csv\")\r\n",
        "df.head()"
      ],
      "execution_count": 2,
      "outputs": [
        {
          "output_type": "execute_result",
          "data": {
            "text/html": [
              "<div>\n",
              "<style scoped>\n",
              "    .dataframe tbody tr th:only-of-type {\n",
              "        vertical-align: middle;\n",
              "    }\n",
              "\n",
              "    .dataframe tbody tr th {\n",
              "        vertical-align: top;\n",
              "    }\n",
              "\n",
              "    .dataframe thead th {\n",
              "        text-align: right;\n",
              "    }\n",
              "</style>\n",
              "<table border=\"1\" class=\"dataframe\">\n",
              "  <thead>\n",
              "    <tr style=\"text-align: right;\">\n",
              "      <th></th>\n",
              "      <th>AT</th>\n",
              "      <th>V</th>\n",
              "      <th>AP</th>\n",
              "      <th>RH</th>\n",
              "      <th>PE</th>\n",
              "    </tr>\n",
              "  </thead>\n",
              "  <tbody>\n",
              "    <tr>\n",
              "      <th>0</th>\n",
              "      <td>14.96</td>\n",
              "      <td>41.76</td>\n",
              "      <td>1024.07</td>\n",
              "      <td>73.17</td>\n",
              "      <td>463.26</td>\n",
              "    </tr>\n",
              "    <tr>\n",
              "      <th>1</th>\n",
              "      <td>25.18</td>\n",
              "      <td>62.96</td>\n",
              "      <td>1020.04</td>\n",
              "      <td>59.08</td>\n",
              "      <td>444.37</td>\n",
              "    </tr>\n",
              "    <tr>\n",
              "      <th>2</th>\n",
              "      <td>5.11</td>\n",
              "      <td>39.40</td>\n",
              "      <td>1012.16</td>\n",
              "      <td>92.14</td>\n",
              "      <td>488.56</td>\n",
              "    </tr>\n",
              "    <tr>\n",
              "      <th>3</th>\n",
              "      <td>20.86</td>\n",
              "      <td>57.32</td>\n",
              "      <td>1010.24</td>\n",
              "      <td>76.64</td>\n",
              "      <td>446.48</td>\n",
              "    </tr>\n",
              "    <tr>\n",
              "      <th>4</th>\n",
              "      <td>10.82</td>\n",
              "      <td>37.50</td>\n",
              "      <td>1009.23</td>\n",
              "      <td>96.62</td>\n",
              "      <td>473.90</td>\n",
              "    </tr>\n",
              "  </tbody>\n",
              "</table>\n",
              "</div>"
            ],
            "text/plain": [
              "      AT      V       AP     RH      PE\n",
              "0  14.96  41.76  1024.07  73.17  463.26\n",
              "1  25.18  62.96  1020.04  59.08  444.37\n",
              "2   5.11  39.40  1012.16  92.14  488.56\n",
              "3  20.86  57.32  1010.24  76.64  446.48\n",
              "4  10.82  37.50  1009.23  96.62  473.90"
            ]
          },
          "metadata": {
            "tags": []
          },
          "execution_count": 2
        }
      ]
    },
    {
      "cell_type": "markdown",
      "metadata": {
        "id": "by2f7CoWh8im"
      },
      "source": [
        "\r\n",
        "\r\n",
        "---\r\n",
        "### **Making copy of original DataSet**\r\n",
        "---\r\n",
        "\r\n",
        "\r\n",
        "\r\n"
      ]
    },
    {
      "cell_type": "code",
      "metadata": {
        "id": "dapVyqfJhg5H"
      },
      "source": [
        "dataset=df.copy()"
      ],
      "execution_count": 3,
      "outputs": []
    },
    {
      "cell_type": "markdown",
      "metadata": {
        "id": "m06BNCHLiGd9"
      },
      "source": [
        "\r\n",
        "\r\n",
        "---\r\n",
        "#### **Method 5: Model Formation and Prediction using Support Vector Regression Method**\r\n",
        "---\r\n",
        "\r\n",
        "\r\n",
        "\r\n"
      ]
    },
    {
      "cell_type": "markdown",
      "metadata": {
        "id": "uDeqXcE_i-PL"
      },
      "source": [
        "\r\n",
        "\r\n",
        "---\r\n",
        "##### **Creation of Independent and Dependent Variable**\r\n",
        "---\r\n",
        "\r\n",
        "\r\n",
        "\r\n"
      ]
    },
    {
      "cell_type": "code",
      "metadata": {
        "id": "ayRj3zcTi--S"
      },
      "source": [
        "X = dataset.iloc[:, :-1].values\r\n",
        "y = dataset.iloc[:, -1].values"
      ],
      "execution_count": 4,
      "outputs": []
    },
    {
      "cell_type": "code",
      "metadata": {
        "id": "us9rgrSKhgPn"
      },
      "source": [
        "y = y.reshape(len(y),1)"
      ],
      "execution_count": 5,
      "outputs": []
    },
    {
      "cell_type": "markdown",
      "metadata": {
        "id": "wnN6jIjMibZg"
      },
      "source": [
        "\r\n",
        "\r\n",
        "---\r\n",
        "##### **Splitting the dataset into the Training set and Test set**\r\n",
        "---\r\n",
        "\r\n",
        "\r\n",
        "\r\n"
      ]
    },
    {
      "cell_type": "code",
      "metadata": {
        "id": "TEiElWGniBKI"
      },
      "source": [
        "X_train, X_test, y_train, y_test = train_test_split(X, y, test_size = 0.2, random_state = 0)"
      ],
      "execution_count": 6,
      "outputs": []
    },
    {
      "cell_type": "markdown",
      "metadata": {
        "id": "baPAh9AYcE6Y"
      },
      "source": [
        "\r\n",
        "\r\n",
        "---\r\n",
        "##### **Feature Scaling**\r\n",
        "---\r\n",
        "\r\n",
        "\r\n",
        "\r\n"
      ]
    },
    {
      "cell_type": "code",
      "metadata": {
        "id": "v3vykx6ucEE6"
      },
      "source": [
        "from sklearn.preprocessing import StandardScaler\r\n",
        "sc_X = StandardScaler()\r\n",
        "sc_y = StandardScaler()\r\n",
        "X_train = sc_X.fit_transform(X_train)\r\n",
        "y_train = sc_y.fit_transform(y_train)"
      ],
      "execution_count": 7,
      "outputs": []
    },
    {
      "cell_type": "markdown",
      "metadata": {
        "id": "Xws4NrF6jU2u"
      },
      "source": [
        "\r\n",
        "\r\n",
        "---\r\n",
        "##### **Training the Multiple Linear Regression model on the Training set**\r\n",
        "---\r\n",
        "\r\n",
        "\r\n",
        "\r\n"
      ]
    },
    {
      "cell_type": "code",
      "metadata": {
        "colab": {
          "base_uri": "https://localhost:8080/"
        },
        "id": "dAee4piiixnC",
        "outputId": "3c3d4fc1-991b-4cf1-ac19-d64b475c45ae"
      },
      "source": [
        "regressor = SVR(kernel = 'rbf')\r\n",
        "regressor.fit(X_train, y_train)"
      ],
      "execution_count": 8,
      "outputs": [
        {
          "output_type": "execute_result",
          "data": {
            "text/plain": [
              "SVR(C=1.0, cache_size=200, coef0=0.0, degree=3, epsilon=0.1, gamma='scale',\n",
              "    kernel='rbf', max_iter=-1, shrinking=True, tol=0.001, verbose=False)"
            ]
          },
          "metadata": {
            "tags": []
          },
          "execution_count": 8
        }
      ]
    },
    {
      "cell_type": "markdown",
      "metadata": {
        "id": "lPx38BiPmBpE"
      },
      "source": [
        "\r\n",
        "\r\n",
        "---\r\n",
        "##### **Predicting the Test set results**\r\n",
        "---\r\n",
        "\r\n",
        "\r\n",
        "\r\n",
        "\r\n"
      ]
    },
    {
      "cell_type": "code",
      "metadata": {
        "id": "GytkHPxphwsN"
      },
      "source": [
        "y_hat_test = sc_y.inverse_transform(regressor.predict(sc_X.transform(X_test)))"
      ],
      "execution_count": 9,
      "outputs": []
    },
    {
      "cell_type": "markdown",
      "metadata": {
        "id": "mw7JQJLamVrD"
      },
      "source": [
        "\r\n",
        "\r\n",
        "---\r\n",
        "##### **Model Performance Evaluation**\r\n",
        "---\r\n",
        "\r\n",
        "\r\n",
        "\r\n",
        "\r\n"
      ]
    },
    {
      "cell_type": "markdown",
      "metadata": {
        "id": "LdeJJSkUmdcb"
      },
      "source": [
        "\r\n",
        "\r\n",
        "---\r\n",
        "###### **Model Performance Evaluation-Test**\r\n",
        "---\r\n",
        "\r\n",
        "\r\n",
        "\r\n",
        "\r\n"
      ]
    },
    {
      "cell_type": "code",
      "metadata": {
        "colab": {
          "base_uri": "https://localhost:8080/"
        },
        "id": "x8pck7Yjmbff",
        "outputId": "b795079a-3aac-40dc-8445-72e6d046ccc2"
      },
      "source": [
        "MAE=mean_absolute_error(y_test,y_hat_test)\r\n",
        "MSE=mean_squared_error(y_test,y_hat_test)\r\n",
        "RMSE=math.sqrt(MSE)\r\n",
        "MAPE=(MAE/np.mean(y_test))*100\r\n",
        "R_Squared=r2_score(y_test,y_hat_test)\r\n",
        "print(f\"\\n\\nMAE={MAE:0.2f}\\n\\nMSE={MSE:0.2f}\\n\\nRMSE={RMSE:0.2f}\\n\\nMAPE={MAPE:0.2f}%\\n\\nR-Squared={R_Squared:0.2f}\")"
      ],
      "execution_count": 10,
      "outputs": [
        {
          "output_type": "stream",
          "text": [
            "\n",
            "\n",
            "MAE=3.00\n",
            "\n",
            "MSE=15.19\n",
            "\n",
            "RMSE=3.90\n",
            "\n",
            "MAPE=0.66%\n",
            "\n",
            "R-Squared=0.95\n"
          ],
          "name": "stdout"
        }
      ]
    }
  ]
}